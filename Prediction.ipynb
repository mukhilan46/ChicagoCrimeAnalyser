{
  "cells": [
    {
      "cell_type": "code",
      "execution_count": null,
      "metadata": {
        "id": "1Vsh6ETxc1c2"
      },
      "outputs": [],
      "source": [
        "import pandas as pd\n",
        "import numpy as np\n",
        "import matplotlib.pyplot as plt\n",
        "import seaborn as sns\n"
      ]
    },
    {
      "cell_type": "code",
      "execution_count": null,
      "metadata": {
        "colab": {
          "base_uri": "https://localhost:8080/"
        },
        "id": "fGVF4qBmfN-G",
        "outputId": "bd53c91a-4f74-4a6c-889d-cfb9f16630c5"
      },
      "outputs": [
        {
          "name": "stdout",
          "output_type": "stream",
          "text": [
            "Drive already mounted at /content/drive; to attempt to forcibly remount, call drive.mount(\"/content/drive\", force_remount=True).\n",
            "File Read Succesfully\n"
          ]
        }
      ],
      "source": [
        "from google.colab import drive\n",
        "drive.mount(#google drive file location here)\n",
        "data= pd.read_csv(#uploadedfilelocation)\n",
        "print('File Read Succesfully')"
      ]
    },
    {
      "cell_type": "code",
      "execution_count": null,
      "metadata": {
        "colab": {
          "base_uri": "https://localhost:8080/"
        },
        "id": "r8unQnpjc1dH",
        "outputId": "27f089bf-dde3-4e07-98a0-b6979003dde4"
      },
      "outputs": [
        {
          "data": {
            "text/plain": [
              "array(['BATTERY', 'THEFT', 'NARCOTICS', 'ASSAULT', 'BURGLARY', 'ROBBERY',\n",
              "       'DECEPTIVE PRACTICE', 'OTHER OFFENSE', 'CRIMINAL DAMAGE',\n",
              "       'WEAPONS VIOLATION', 'CRIMINAL TRESPASS', 'MOTOR VEHICLE THEFT',\n",
              "       'SEX OFFENSE', 'INTERFERENCE WITH PUBLIC OFFICER',\n",
              "       'OFFENSE INVOLVING CHILDREN', 'PUBLIC PEACE VIOLATION',\n",
              "       'PROSTITUTION', 'GAMBLING', 'CRIM SEXUAL ASSAULT',\n",
              "       'LIQUOR LAW VIOLATION', 'CRIMINAL SEXUAL ASSAULT', 'ARSON',\n",
              "       'STALKING', 'KIDNAPPING', 'INTIMIDATION', 'HOMICIDE',\n",
              "       'CONCEALED CARRY LICENSE VIOLATION', 'NON - CRIMINAL',\n",
              "       'HUMAN TRAFFICKING', 'OBSCENITY', 'PUBLIC INDECENCY',\n",
              "       'OTHER NARCOTIC VIOLATION', 'NON-CRIMINAL',\n",
              "       'NON-CRIMINAL (SUBJECT SPECIFIED)', 'RITUALISM',\n",
              "       'DOMESTIC VIOLENCE'], dtype=object)"
            ]
          },
          "execution_count": 79,
          "metadata": {
            "tags": []
          },
          "output_type": "execute_result"
        }
      ],
      "source": [
        "data['Primary Type'].unique()"
      ]
    },
    {
      "cell_type": "code",
      "execution_count": null,
      "metadata": {
        "id": "rePjNg7Ic1dK"
      },
      "outputs": [],
      "source": [
        "data['voilent crime']=0\n",
        "data['other crime']=0\n",
        "data['sum_voilentcrime']=0"
      ]
    },
    {
      "cell_type": "code",
      "execution_count": null,
      "metadata": {
        "colab": {
          "base_uri": "https://localhost:8080/"
        },
        "id": "joWqCrxbc1dM",
        "outputId": "de03b282-4cb5-4a63-8a84-25fd00cf8fe2",
        "scrolled": true
      },
      "outputs": [
        {
          "name": "stdout",
          "output_type": "stream",
          "text": [
            "<class 'pandas.core.frame.DataFrame'>\n",
            "RangeIndex: 7355291 entries, 0 to 7355290\n",
            "Data columns (total 25 columns):\n",
            " #   Column                Dtype  \n",
            "---  ------                -----  \n",
            " 0   ID                    int64  \n",
            " 1   Case Number           object \n",
            " 2   Date                  object \n",
            " 3   Block                 object \n",
            " 4   IUCR                  object \n",
            " 5   Primary Type          object \n",
            " 6   Description           object \n",
            " 7   Location Description  object \n",
            " 8   Arrest                bool   \n",
            " 9   Domestic              bool   \n",
            " 10  Beat                  int64  \n",
            " 11  District              float64\n",
            " 12  Ward                  float64\n",
            " 13  Community Area        float64\n",
            " 14  FBI Code              object \n",
            " 15  X Coordinate          float64\n",
            " 16  Y Coordinate          float64\n",
            " 17  Year                  int64  \n",
            " 18  Updated On            object \n",
            " 19  Latitude              float64\n",
            " 20  Longitude             float64\n",
            " 21  Location              object \n",
            " 22  voilent crime         int64  \n",
            " 23  other crime           int64  \n",
            " 24  sum_voilentcrime      int64  \n",
            "dtypes: bool(2), float64(7), int64(6), object(10)\n",
            "memory usage: 1.3+ GB\n"
          ]
        }
      ],
      "source": [
        "data.info()"
      ]
    },
    {
      "cell_type": "code",
      "execution_count": null,
      "metadata": {
        "id": "GXkJ7uZlc1dP"
      },
      "outputs": [],
      "source": [
        "voilent_crimes=['OFFENSE INVOLVING CHILDREN','CRIM SEXUAL ASSAULT','SEX OFFENSE','NARCOTICS','PROSTITUTION','CRIMINAL DAMAGE','ASSAULT','DOMESTIC VIOLENCE']"
      ]
    },
    {
      "cell_type": "code",
      "execution_count": null,
      "metadata": {
        "id": "y2KSUQX1c1dQ"
      },
      "outputs": [],
      "source": [
        "for i in voilent_crimes:\n",
        "    data.loc[data['Primary Type'] == i, 'voilent crime'] = 1\n",
        "\n",
        "    "
      ]
    },
    {
      "cell_type": "code",
      "execution_count": null,
      "metadata": {
        "id": "YgsD_9N9c1dR"
      },
      "outputs": [],
      "source": [
        "other_crimes=['THEFT', 'OTHER OFFENSE',\n",
        "        'MOTOR VEHICLE THEFT',\n",
        "       'DECEPTIVE PRACTICE', 'BATTERY', 'BURGLARY', 'WEAPONS VIOLATION',\n",
        "       'PUBLIC PEACE VIOLATION', 'GAMBLING',\n",
        "       'LIQUOR LAW VIOLATION', 'INTERFERENCE WITH PUBLIC OFFICER',\n",
        "       'STALKING', 'ARSON',\n",
        "       'CRIMINAL TRESPASS', 'HOMICIDE', 'ROBBERY', 'OBSCENITY',\n",
        "       'KIDNAPPING', 'INTIMIDATION', 'RITUALISM',\n",
        "       'OTHER NARCOTIC VIOLATION', 'PUBLIC INDECENCY']"
      ]
    },
    {
      "cell_type": "code",
      "execution_count": null,
      "metadata": {
        "id": "d-ioWr7pc1dT"
      },
      "outputs": [],
      "source": [
        "for i in other_crimes:\n",
        "    data.loc[data['Primary Type'] == i, 'other crime'] = 1"
      ]
    },
    {
      "cell_type": "code",
      "execution_count": null,
      "metadata": {
        "id": "DI-uNp_Yc1dX"
      },
      "outputs": [],
      "source": [
        "data['Date'] = pd.to_datetime(data['Date'])\n",
        "data['Date']=data['Date'].dt.normalize()"
      ]
    },
    {
      "cell_type": "code",
      "execution_count": null,
      "metadata": {
        "colab": {
          "base_uri": "https://localhost:8080/",
          "height": 401
        },
        "id": "5HbHhiWnc1dZ",
        "outputId": "244d4b93-c043-4832-aedb-118e04d2d925"
      },
      "outputs": [
        {
          "data": {
            "text/html": [
              "<div>\n",
              "<style scoped>\n",
              "    .dataframe tbody tr th:only-of-type {\n",
              "        vertical-align: middle;\n",
              "    }\n",
              "\n",
              "    .dataframe tbody tr th {\n",
              "        vertical-align: top;\n",
              "    }\n",
              "\n",
              "    .dataframe thead th {\n",
              "        text-align: right;\n",
              "    }\n",
              "</style>\n",
              "<table border=\"1\" class=\"dataframe\">\n",
              "  <thead>\n",
              "    <tr style=\"text-align: right;\">\n",
              "      <th></th>\n",
              "      <th>ID</th>\n",
              "      <th>Case Number</th>\n",
              "      <th>Date</th>\n",
              "      <th>Block</th>\n",
              "      <th>IUCR</th>\n",
              "      <th>Primary Type</th>\n",
              "      <th>Description</th>\n",
              "      <th>Location Description</th>\n",
              "      <th>Arrest</th>\n",
              "      <th>Domestic</th>\n",
              "      <th>Beat</th>\n",
              "      <th>District</th>\n",
              "      <th>Ward</th>\n",
              "      <th>Community Area</th>\n",
              "      <th>FBI Code</th>\n",
              "      <th>X Coordinate</th>\n",
              "      <th>Y Coordinate</th>\n",
              "      <th>Year</th>\n",
              "      <th>Updated On</th>\n",
              "      <th>Latitude</th>\n",
              "      <th>Longitude</th>\n",
              "      <th>Location</th>\n",
              "      <th>voilent crime</th>\n",
              "      <th>other crime</th>\n",
              "      <th>sum_voilentcrime</th>\n",
              "    </tr>\n",
              "  </thead>\n",
              "  <tbody>\n",
              "    <tr>\n",
              "      <th>0</th>\n",
              "      <td>10224738</td>\n",
              "      <td>HY411648</td>\n",
              "      <td>2015-09-05</td>\n",
              "      <td>043XX S WOOD ST</td>\n",
              "      <td>0486</td>\n",
              "      <td>BATTERY</td>\n",
              "      <td>DOMESTIC BATTERY SIMPLE</td>\n",
              "      <td>RESIDENCE</td>\n",
              "      <td>False</td>\n",
              "      <td>True</td>\n",
              "      <td>924</td>\n",
              "      <td>9.0</td>\n",
              "      <td>12.0</td>\n",
              "      <td>61.0</td>\n",
              "      <td>08B</td>\n",
              "      <td>1165074.0</td>\n",
              "      <td>1875917.0</td>\n",
              "      <td>2015</td>\n",
              "      <td>02/10/2018 03:50:01 PM</td>\n",
              "      <td>41.815117</td>\n",
              "      <td>-87.670000</td>\n",
              "      <td>(41.815117282, -87.669999562)</td>\n",
              "      <td>0</td>\n",
              "      <td>1</td>\n",
              "      <td>0</td>\n",
              "    </tr>\n",
              "    <tr>\n",
              "      <th>1</th>\n",
              "      <td>10224739</td>\n",
              "      <td>HY411615</td>\n",
              "      <td>2015-09-04</td>\n",
              "      <td>008XX N CENTRAL AVE</td>\n",
              "      <td>0870</td>\n",
              "      <td>THEFT</td>\n",
              "      <td>POCKET-PICKING</td>\n",
              "      <td>CTA BUS</td>\n",
              "      <td>False</td>\n",
              "      <td>False</td>\n",
              "      <td>1511</td>\n",
              "      <td>15.0</td>\n",
              "      <td>29.0</td>\n",
              "      <td>25.0</td>\n",
              "      <td>06</td>\n",
              "      <td>1138875.0</td>\n",
              "      <td>1904869.0</td>\n",
              "      <td>2015</td>\n",
              "      <td>02/10/2018 03:50:01 PM</td>\n",
              "      <td>41.895080</td>\n",
              "      <td>-87.765400</td>\n",
              "      <td>(41.895080471, -87.765400451)</td>\n",
              "      <td>0</td>\n",
              "      <td>1</td>\n",
              "      <td>0</td>\n",
              "    </tr>\n",
              "    <tr>\n",
              "      <th>2</th>\n",
              "      <td>11646166</td>\n",
              "      <td>JC213529</td>\n",
              "      <td>2018-09-01</td>\n",
              "      <td>082XX S INGLESIDE AVE</td>\n",
              "      <td>0810</td>\n",
              "      <td>THEFT</td>\n",
              "      <td>OVER $500</td>\n",
              "      <td>RESIDENCE</td>\n",
              "      <td>False</td>\n",
              "      <td>True</td>\n",
              "      <td>631</td>\n",
              "      <td>6.0</td>\n",
              "      <td>8.0</td>\n",
              "      <td>44.0</td>\n",
              "      <td>06</td>\n",
              "      <td>NaN</td>\n",
              "      <td>NaN</td>\n",
              "      <td>2018</td>\n",
              "      <td>04/06/2019 04:04:43 PM</td>\n",
              "      <td>NaN</td>\n",
              "      <td>NaN</td>\n",
              "      <td>NaN</td>\n",
              "      <td>0</td>\n",
              "      <td>1</td>\n",
              "      <td>0</td>\n",
              "    </tr>\n",
              "    <tr>\n",
              "      <th>3</th>\n",
              "      <td>10224740</td>\n",
              "      <td>HY411595</td>\n",
              "      <td>2015-09-05</td>\n",
              "      <td>035XX W BARRY AVE</td>\n",
              "      <td>2023</td>\n",
              "      <td>NARCOTICS</td>\n",
              "      <td>POSS: HEROIN(BRN/TAN)</td>\n",
              "      <td>SIDEWALK</td>\n",
              "      <td>True</td>\n",
              "      <td>False</td>\n",
              "      <td>1412</td>\n",
              "      <td>14.0</td>\n",
              "      <td>35.0</td>\n",
              "      <td>21.0</td>\n",
              "      <td>18</td>\n",
              "      <td>1152037.0</td>\n",
              "      <td>1920384.0</td>\n",
              "      <td>2015</td>\n",
              "      <td>02/10/2018 03:50:01 PM</td>\n",
              "      <td>41.937406</td>\n",
              "      <td>-87.716650</td>\n",
              "      <td>(41.937405765, -87.716649687)</td>\n",
              "      <td>1</td>\n",
              "      <td>0</td>\n",
              "      <td>0</td>\n",
              "    </tr>\n",
              "    <tr>\n",
              "      <th>4</th>\n",
              "      <td>10224741</td>\n",
              "      <td>HY411610</td>\n",
              "      <td>2015-09-05</td>\n",
              "      <td>0000X N LARAMIE AVE</td>\n",
              "      <td>0560</td>\n",
              "      <td>ASSAULT</td>\n",
              "      <td>SIMPLE</td>\n",
              "      <td>APARTMENT</td>\n",
              "      <td>False</td>\n",
              "      <td>True</td>\n",
              "      <td>1522</td>\n",
              "      <td>15.0</td>\n",
              "      <td>28.0</td>\n",
              "      <td>25.0</td>\n",
              "      <td>08A</td>\n",
              "      <td>1141706.0</td>\n",
              "      <td>1900086.0</td>\n",
              "      <td>2015</td>\n",
              "      <td>02/10/2018 03:50:01 PM</td>\n",
              "      <td>41.881903</td>\n",
              "      <td>-87.755121</td>\n",
              "      <td>(41.881903443, -87.755121152)</td>\n",
              "      <td>1</td>\n",
              "      <td>0</td>\n",
              "      <td>0</td>\n",
              "    </tr>\n",
              "  </tbody>\n",
              "</table>\n",
              "</div>"
            ],
            "text/plain": [
              "         ID Case Number  ... other crime sum_voilentcrime\n",
              "0  10224738    HY411648  ...           1                0\n",
              "1  10224739    HY411615  ...           1                0\n",
              "2  11646166    JC213529  ...           1                0\n",
              "3  10224740    HY411595  ...           0                0\n",
              "4  10224741    HY411610  ...           0                0\n",
              "\n",
              "[5 rows x 25 columns]"
            ]
          },
          "execution_count": 87,
          "metadata": {
            "tags": []
          },
          "output_type": "execute_result"
        }
      ],
      "source": [
        "\n",
        "data.head()\n",
        "        "
      ]
    },
    {
      "cell_type": "code",
      "execution_count": null,
      "metadata": {
        "colab": {
          "base_uri": "https://localhost:8080/"
        },
        "id": "Rb53oNvcc1da",
        "outputId": "d766e6fb-8857-4173-c42d-32444dcc719a"
      },
      "outputs": [
        {
          "data": {
            "text/plain": [
              "Timestamp('2015-09-05 00:00:00')"
            ]
          },
          "execution_count": 88,
          "metadata": {
            "tags": []
          },
          "output_type": "execute_result"
        }
      ],
      "source": [
        "r1=data['Date']\n",
        "r1[0]"
      ]
    },
    {
      "cell_type": "code",
      "execution_count": null,
      "metadata": {
        "colab": {
          "base_uri": "https://localhost:8080/"
        },
        "id": "0G6eFR7nc1db",
        "outputId": "eb955bd6-f5ea-4e61-c5e9-77891bec24b0"
      },
      "outputs": [
        {
          "data": {
            "text/plain": [
              "Timestamp('2015-09-03 00:00:00')"
            ]
          },
          "execution_count": 89,
          "metadata": {
            "tags": []
          },
          "output_type": "execute_result"
        }
      ],
      "source": [
        "\n",
        "r2=r1[0]-pd.Timedelta(days=2)\n",
        "r2"
      ]
    },
    {
      "cell_type": "code",
      "execution_count": null,
      "metadata": {
        "id": "rNxJf9m1c1dc"
      },
      "outputs": [],
      "source": [
        "\n",
        "s1=data['Date'].value_counts()\n",
        "s2=s1.keys()\n",
        "s3={}\n",
        "for i in s2:\n",
        "    r5=[]\n",
        "    r5.append(i)\n",
        "    r1=data[data['Date']==i]['voilent crime']==1\n",
        "    count=0\n",
        "    for i in r1:\n",
        "        if i==True:\n",
        "            count+=1\n",
        "    s3[r5[0]]=count\n",
        "    data.loc[data['Date'] == r5[0], 'sum_voilentcrime'] = count\n",
        "    \n"
      ]
    },
    {
      "cell_type": "code",
      "execution_count": null,
      "metadata": {
        "colab": {
          "base_uri": "https://localhost:8080/",
          "height": 401
        },
        "id": "4gVSZQQTc1dc",
        "outputId": "37aeec60-d1c8-4f40-f155-5b60cd1c307d"
      },
      "outputs": [
        {
          "data": {
            "text/html": [
              "<div>\n",
              "<style scoped>\n",
              "    .dataframe tbody tr th:only-of-type {\n",
              "        vertical-align: middle;\n",
              "    }\n",
              "\n",
              "    .dataframe tbody tr th {\n",
              "        vertical-align: top;\n",
              "    }\n",
              "\n",
              "    .dataframe thead th {\n",
              "        text-align: right;\n",
              "    }\n",
              "</style>\n",
              "<table border=\"1\" class=\"dataframe\">\n",
              "  <thead>\n",
              "    <tr style=\"text-align: right;\">\n",
              "      <th></th>\n",
              "      <th>ID</th>\n",
              "      <th>Case Number</th>\n",
              "      <th>Date</th>\n",
              "      <th>Block</th>\n",
              "      <th>IUCR</th>\n",
              "      <th>Primary Type</th>\n",
              "      <th>Description</th>\n",
              "      <th>Location Description</th>\n",
              "      <th>Arrest</th>\n",
              "      <th>Domestic</th>\n",
              "      <th>Beat</th>\n",
              "      <th>District</th>\n",
              "      <th>Ward</th>\n",
              "      <th>Community Area</th>\n",
              "      <th>FBI Code</th>\n",
              "      <th>X Coordinate</th>\n",
              "      <th>Y Coordinate</th>\n",
              "      <th>Year</th>\n",
              "      <th>Updated On</th>\n",
              "      <th>Latitude</th>\n",
              "      <th>Longitude</th>\n",
              "      <th>Location</th>\n",
              "      <th>voilent crime</th>\n",
              "      <th>other crime</th>\n",
              "      <th>sum_voilentcrime</th>\n",
              "    </tr>\n",
              "  </thead>\n",
              "  <tbody>\n",
              "    <tr>\n",
              "      <th>0</th>\n",
              "      <td>10224738</td>\n",
              "      <td>HY411648</td>\n",
              "      <td>2015-09-05</td>\n",
              "      <td>043XX S WOOD ST</td>\n",
              "      <td>0486</td>\n",
              "      <td>BATTERY</td>\n",
              "      <td>DOMESTIC BATTERY SIMPLE</td>\n",
              "      <td>RESIDENCE</td>\n",
              "      <td>False</td>\n",
              "      <td>True</td>\n",
              "      <td>924</td>\n",
              "      <td>9.0</td>\n",
              "      <td>12.0</td>\n",
              "      <td>61.0</td>\n",
              "      <td>08B</td>\n",
              "      <td>1165074.0</td>\n",
              "      <td>1875917.0</td>\n",
              "      <td>2015</td>\n",
              "      <td>02/10/2018 03:50:01 PM</td>\n",
              "      <td>41.815117</td>\n",
              "      <td>-87.670000</td>\n",
              "      <td>(41.815117282, -87.669999562)</td>\n",
              "      <td>0</td>\n",
              "      <td>1</td>\n",
              "      <td>206</td>\n",
              "    </tr>\n",
              "    <tr>\n",
              "      <th>1</th>\n",
              "      <td>10224739</td>\n",
              "      <td>HY411615</td>\n",
              "      <td>2015-09-04</td>\n",
              "      <td>008XX N CENTRAL AVE</td>\n",
              "      <td>0870</td>\n",
              "      <td>THEFT</td>\n",
              "      <td>POCKET-PICKING</td>\n",
              "      <td>CTA BUS</td>\n",
              "      <td>False</td>\n",
              "      <td>False</td>\n",
              "      <td>1511</td>\n",
              "      <td>15.0</td>\n",
              "      <td>29.0</td>\n",
              "      <td>25.0</td>\n",
              "      <td>06</td>\n",
              "      <td>1138875.0</td>\n",
              "      <td>1904869.0</td>\n",
              "      <td>2015</td>\n",
              "      <td>02/10/2018 03:50:01 PM</td>\n",
              "      <td>41.895080</td>\n",
              "      <td>-87.765400</td>\n",
              "      <td>(41.895080471, -87.765400451)</td>\n",
              "      <td>0</td>\n",
              "      <td>1</td>\n",
              "      <td>221</td>\n",
              "    </tr>\n",
              "    <tr>\n",
              "      <th>2</th>\n",
              "      <td>11646166</td>\n",
              "      <td>JC213529</td>\n",
              "      <td>2018-09-01</td>\n",
              "      <td>082XX S INGLESIDE AVE</td>\n",
              "      <td>0810</td>\n",
              "      <td>THEFT</td>\n",
              "      <td>OVER $500</td>\n",
              "      <td>RESIDENCE</td>\n",
              "      <td>False</td>\n",
              "      <td>True</td>\n",
              "      <td>631</td>\n",
              "      <td>6.0</td>\n",
              "      <td>8.0</td>\n",
              "      <td>44.0</td>\n",
              "      <td>06</td>\n",
              "      <td>NaN</td>\n",
              "      <td>NaN</td>\n",
              "      <td>2018</td>\n",
              "      <td>04/06/2019 04:04:43 PM</td>\n",
              "      <td>NaN</td>\n",
              "      <td>NaN</td>\n",
              "      <td>NaN</td>\n",
              "      <td>0</td>\n",
              "      <td>1</td>\n",
              "      <td>248</td>\n",
              "    </tr>\n",
              "    <tr>\n",
              "      <th>3</th>\n",
              "      <td>10224740</td>\n",
              "      <td>HY411595</td>\n",
              "      <td>2015-09-05</td>\n",
              "      <td>035XX W BARRY AVE</td>\n",
              "      <td>2023</td>\n",
              "      <td>NARCOTICS</td>\n",
              "      <td>POSS: HEROIN(BRN/TAN)</td>\n",
              "      <td>SIDEWALK</td>\n",
              "      <td>True</td>\n",
              "      <td>False</td>\n",
              "      <td>1412</td>\n",
              "      <td>14.0</td>\n",
              "      <td>35.0</td>\n",
              "      <td>21.0</td>\n",
              "      <td>18</td>\n",
              "      <td>1152037.0</td>\n",
              "      <td>1920384.0</td>\n",
              "      <td>2015</td>\n",
              "      <td>02/10/2018 03:50:01 PM</td>\n",
              "      <td>41.937406</td>\n",
              "      <td>-87.716650</td>\n",
              "      <td>(41.937405765, -87.716649687)</td>\n",
              "      <td>1</td>\n",
              "      <td>0</td>\n",
              "      <td>206</td>\n",
              "    </tr>\n",
              "    <tr>\n",
              "      <th>4</th>\n",
              "      <td>10224741</td>\n",
              "      <td>HY411610</td>\n",
              "      <td>2015-09-05</td>\n",
              "      <td>0000X N LARAMIE AVE</td>\n",
              "      <td>0560</td>\n",
              "      <td>ASSAULT</td>\n",
              "      <td>SIMPLE</td>\n",
              "      <td>APARTMENT</td>\n",
              "      <td>False</td>\n",
              "      <td>True</td>\n",
              "      <td>1522</td>\n",
              "      <td>15.0</td>\n",
              "      <td>28.0</td>\n",
              "      <td>25.0</td>\n",
              "      <td>08A</td>\n",
              "      <td>1141706.0</td>\n",
              "      <td>1900086.0</td>\n",
              "      <td>2015</td>\n",
              "      <td>02/10/2018 03:50:01 PM</td>\n",
              "      <td>41.881903</td>\n",
              "      <td>-87.755121</td>\n",
              "      <td>(41.881903443, -87.755121152)</td>\n",
              "      <td>1</td>\n",
              "      <td>0</td>\n",
              "      <td>206</td>\n",
              "    </tr>\n",
              "  </tbody>\n",
              "</table>\n",
              "</div>"
            ],
            "text/plain": [
              "         ID Case Number  ... other crime sum_voilentcrime\n",
              "0  10224738    HY411648  ...           1              206\n",
              "1  10224739    HY411615  ...           1              221\n",
              "2  11646166    JC213529  ...           1              248\n",
              "3  10224740    HY411595  ...           0              206\n",
              "4  10224741    HY411610  ...           0              206\n",
              "\n",
              "[5 rows x 25 columns]"
            ]
          },
          "execution_count": 91,
          "metadata": {
            "tags": []
          },
          "output_type": "execute_result"
        }
      ],
      "source": [
        "data.head()"
      ]
    },
    {
      "cell_type": "code",
      "execution_count": null,
      "metadata": {
        "id": "odgfmnbxc1de"
      },
      "outputs": [],
      "source": [
        "data['sum_voilentcrime7']=0\n"
      ]
    },
    {
      "cell_type": "code",
      "execution_count": null,
      "metadata": {
        "id": "hlrdoSNwc1de"
      },
      "outputs": [],
      "source": [
        "t1=data['Date'].value_counts()\n",
        "sum1={}\n",
        "j=1\n",
        "\n",
        "for i in s2:\n",
        "    w2=i-pd.Timedelta(days=1)\n",
        "        \n",
        "    if w2 in s3:\n",
        "        sum1[i]=s3[w2]\n",
        "    else:sum1[i]=0\n",
        "            "
      ]
    },
    {
      "cell_type": "code",
      "execution_count": null,
      "metadata": {
        "id": "IDe-L2c8c1df"
      },
      "outputs": [],
      "source": [
        "l1=0\n",
        "j=2\n",
        "while j<8:\n",
        "    for i in range(len(s2)):\n",
        "        w2=s2[i]-pd.Timedelta(days=j)\n",
        "        if w2 in s3:\n",
        "            l1=s3[w2]\n",
        "        else:\n",
        "            l1=0\n",
        "    \n",
        "        sum1[s2[i]]+=l1\n",
        "        \n",
        "    \n",
        "    j+=1        "
      ]
    },
    {
      "cell_type": "code",
      "execution_count": null,
      "metadata": {
        "id": "-exk5zfOc1dg"
      },
      "outputs": [],
      "source": [
        "for i in sum1:\n",
        "    \n",
        "    data.loc[data['Date'] == i, 'sum_voilentcrime7'] = sum1[i]\n",
        "    "
      ]
    },
    {
      "cell_type": "code",
      "execution_count": null,
      "metadata": {
        "colab": {
          "base_uri": "https://localhost:8080/",
          "height": 401
        },
        "id": "8xNtqXAJc1dh",
        "outputId": "7dbd7c80-7acd-492c-c9cd-9ef0e6d28af1"
      },
      "outputs": [
        {
          "data": {
            "text/html": [
              "<div>\n",
              "<style scoped>\n",
              "    .dataframe tbody tr th:only-of-type {\n",
              "        vertical-align: middle;\n",
              "    }\n",
              "\n",
              "    .dataframe tbody tr th {\n",
              "        vertical-align: top;\n",
              "    }\n",
              "\n",
              "    .dataframe thead th {\n",
              "        text-align: right;\n",
              "    }\n",
              "</style>\n",
              "<table border=\"1\" class=\"dataframe\">\n",
              "  <thead>\n",
              "    <tr style=\"text-align: right;\">\n",
              "      <th></th>\n",
              "      <th>ID</th>\n",
              "      <th>Case Number</th>\n",
              "      <th>Date</th>\n",
              "      <th>Block</th>\n",
              "      <th>IUCR</th>\n",
              "      <th>Primary Type</th>\n",
              "      <th>Description</th>\n",
              "      <th>Location Description</th>\n",
              "      <th>Arrest</th>\n",
              "      <th>Domestic</th>\n",
              "      <th>Beat</th>\n",
              "      <th>District</th>\n",
              "      <th>Ward</th>\n",
              "      <th>Community Area</th>\n",
              "      <th>FBI Code</th>\n",
              "      <th>X Coordinate</th>\n",
              "      <th>Y Coordinate</th>\n",
              "      <th>Year</th>\n",
              "      <th>Updated On</th>\n",
              "      <th>Latitude</th>\n",
              "      <th>Longitude</th>\n",
              "      <th>Location</th>\n",
              "      <th>voilent crime</th>\n",
              "      <th>other crime</th>\n",
              "      <th>sum_voilentcrime</th>\n",
              "      <th>sum_voilentcrime7</th>\n",
              "    </tr>\n",
              "  </thead>\n",
              "  <tbody>\n",
              "    <tr>\n",
              "      <th>0</th>\n",
              "      <td>10224738</td>\n",
              "      <td>HY411648</td>\n",
              "      <td>2015-09-05</td>\n",
              "      <td>043XX S WOOD ST</td>\n",
              "      <td>0486</td>\n",
              "      <td>BATTERY</td>\n",
              "      <td>DOMESTIC BATTERY SIMPLE</td>\n",
              "      <td>RESIDENCE</td>\n",
              "      <td>False</td>\n",
              "      <td>True</td>\n",
              "      <td>924</td>\n",
              "      <td>9.0</td>\n",
              "      <td>12.0</td>\n",
              "      <td>61.0</td>\n",
              "      <td>08B</td>\n",
              "      <td>1165074.0</td>\n",
              "      <td>1875917.0</td>\n",
              "      <td>2015</td>\n",
              "      <td>02/10/2018 03:50:01 PM</td>\n",
              "      <td>41.815117</td>\n",
              "      <td>-87.670000</td>\n",
              "      <td>(41.815117282, -87.669999562)</td>\n",
              "      <td>0</td>\n",
              "      <td>1</td>\n",
              "      <td>206</td>\n",
              "      <td>1653</td>\n",
              "    </tr>\n",
              "    <tr>\n",
              "      <th>1</th>\n",
              "      <td>10224739</td>\n",
              "      <td>HY411615</td>\n",
              "      <td>2015-09-04</td>\n",
              "      <td>008XX N CENTRAL AVE</td>\n",
              "      <td>0870</td>\n",
              "      <td>THEFT</td>\n",
              "      <td>POCKET-PICKING</td>\n",
              "      <td>CTA BUS</td>\n",
              "      <td>False</td>\n",
              "      <td>False</td>\n",
              "      <td>1511</td>\n",
              "      <td>15.0</td>\n",
              "      <td>29.0</td>\n",
              "      <td>25.0</td>\n",
              "      <td>06</td>\n",
              "      <td>1138875.0</td>\n",
              "      <td>1904869.0</td>\n",
              "      <td>2015</td>\n",
              "      <td>02/10/2018 03:50:01 PM</td>\n",
              "      <td>41.895080</td>\n",
              "      <td>-87.765400</td>\n",
              "      <td>(41.895080471, -87.765400451)</td>\n",
              "      <td>0</td>\n",
              "      <td>1</td>\n",
              "      <td>221</td>\n",
              "      <td>1646</td>\n",
              "    </tr>\n",
              "    <tr>\n",
              "      <th>2</th>\n",
              "      <td>11646166</td>\n",
              "      <td>JC213529</td>\n",
              "      <td>2018-09-01</td>\n",
              "      <td>082XX S INGLESIDE AVE</td>\n",
              "      <td>0810</td>\n",
              "      <td>THEFT</td>\n",
              "      <td>OVER $500</td>\n",
              "      <td>RESIDENCE</td>\n",
              "      <td>False</td>\n",
              "      <td>True</td>\n",
              "      <td>631</td>\n",
              "      <td>6.0</td>\n",
              "      <td>8.0</td>\n",
              "      <td>44.0</td>\n",
              "      <td>06</td>\n",
              "      <td>NaN</td>\n",
              "      <td>NaN</td>\n",
              "      <td>2018</td>\n",
              "      <td>04/06/2019 04:04:43 PM</td>\n",
              "      <td>NaN</td>\n",
              "      <td>NaN</td>\n",
              "      <td>NaN</td>\n",
              "      <td>0</td>\n",
              "      <td>1</td>\n",
              "      <td>248</td>\n",
              "      <td>1464</td>\n",
              "    </tr>\n",
              "    <tr>\n",
              "      <th>3</th>\n",
              "      <td>10224740</td>\n",
              "      <td>HY411595</td>\n",
              "      <td>2015-09-05</td>\n",
              "      <td>035XX W BARRY AVE</td>\n",
              "      <td>2023</td>\n",
              "      <td>NARCOTICS</td>\n",
              "      <td>POSS: HEROIN(BRN/TAN)</td>\n",
              "      <td>SIDEWALK</td>\n",
              "      <td>True</td>\n",
              "      <td>False</td>\n",
              "      <td>1412</td>\n",
              "      <td>14.0</td>\n",
              "      <td>35.0</td>\n",
              "      <td>21.0</td>\n",
              "      <td>18</td>\n",
              "      <td>1152037.0</td>\n",
              "      <td>1920384.0</td>\n",
              "      <td>2015</td>\n",
              "      <td>02/10/2018 03:50:01 PM</td>\n",
              "      <td>41.937406</td>\n",
              "      <td>-87.716650</td>\n",
              "      <td>(41.937405765, -87.716649687)</td>\n",
              "      <td>1</td>\n",
              "      <td>0</td>\n",
              "      <td>206</td>\n",
              "      <td>1653</td>\n",
              "    </tr>\n",
              "    <tr>\n",
              "      <th>4</th>\n",
              "      <td>10224741</td>\n",
              "      <td>HY411610</td>\n",
              "      <td>2015-09-05</td>\n",
              "      <td>0000X N LARAMIE AVE</td>\n",
              "      <td>0560</td>\n",
              "      <td>ASSAULT</td>\n",
              "      <td>SIMPLE</td>\n",
              "      <td>APARTMENT</td>\n",
              "      <td>False</td>\n",
              "      <td>True</td>\n",
              "      <td>1522</td>\n",
              "      <td>15.0</td>\n",
              "      <td>28.0</td>\n",
              "      <td>25.0</td>\n",
              "      <td>08A</td>\n",
              "      <td>1141706.0</td>\n",
              "      <td>1900086.0</td>\n",
              "      <td>2015</td>\n",
              "      <td>02/10/2018 03:50:01 PM</td>\n",
              "      <td>41.881903</td>\n",
              "      <td>-87.755121</td>\n",
              "      <td>(41.881903443, -87.755121152)</td>\n",
              "      <td>1</td>\n",
              "      <td>0</td>\n",
              "      <td>206</td>\n",
              "      <td>1653</td>\n",
              "    </tr>\n",
              "  </tbody>\n",
              "</table>\n",
              "</div>"
            ],
            "text/plain": [
              "         ID Case Number  ... sum_voilentcrime sum_voilentcrime7\n",
              "0  10224738    HY411648  ...              206              1653\n",
              "1  10224739    HY411615  ...              221              1646\n",
              "2  11646166    JC213529  ...              248              1464\n",
              "3  10224740    HY411595  ...              206              1653\n",
              "4  10224741    HY411610  ...              206              1653\n",
              "\n",
              "[5 rows x 26 columns]"
            ]
          },
          "execution_count": 96,
          "metadata": {
            "tags": []
          },
          "output_type": "execute_result"
        }
      ],
      "source": [
        "data.head()"
      ]
    },
    {
      "cell_type": "code",
      "execution_count": null,
      "metadata": {
        "id": "MgyT_04Pc1di"
      },
      "outputs": [],
      "source": [
        "data['sum_voilentcrime30']=0"
      ]
    },
    {
      "cell_type": "code",
      "execution_count": null,
      "metadata": {
        "id": "WYwsRmsnc1dj"
      },
      "outputs": [],
      "source": [
        "t1=data['Date'].value_counts()\n",
        "sum1={}\n",
        "j=1\n",
        "\n",
        "for i in s2:\n",
        "    w2=i-pd.Timedelta(days=1)\n",
        "        \n",
        "    if w2 in s3:\n",
        "        sum1[i]=s3[w2]\n",
        "    else:sum1[i]=0\n",
        "            "
      ]
    },
    {
      "cell_type": "code",
      "execution_count": null,
      "metadata": {
        "id": "0IjfQMEqc1dl"
      },
      "outputs": [],
      "source": [
        "l1=0\n",
        "j=2\n",
        "while j<31:\n",
        "    for i in range(len(s2)):\n",
        "        w2=s2[i]-pd.Timedelta(days=j)\n",
        "        if w2 in s3:\n",
        "            l1=s3[w2]\n",
        "        else:\n",
        "            l1=0\n",
        "    \n",
        "        sum1[s2[i]]+=l1\n",
        "        \n",
        "    \n",
        "    j+=1"
      ]
    },
    {
      "cell_type": "code",
      "execution_count": null,
      "metadata": {
        "id": "MotFJQoZc1dm"
      },
      "outputs": [],
      "source": [
        "for i in sum1:\n",
        "    \n",
        "    data.loc[data['Date'] == i, 'sum_voilentcrime30'] = sum1[i]"
      ]
    },
    {
      "cell_type": "code",
      "execution_count": null,
      "metadata": {
        "colab": {
          "base_uri": "https://localhost:8080/",
          "height": 401
        },
        "id": "buySYyjjc1do",
        "outputId": "8fb536b3-93f4-44d6-85f3-c710a322a08f"
      },
      "outputs": [
        {
          "data": {
            "text/html": [
              "<div>\n",
              "<style scoped>\n",
              "    .dataframe tbody tr th:only-of-type {\n",
              "        vertical-align: middle;\n",
              "    }\n",
              "\n",
              "    .dataframe tbody tr th {\n",
              "        vertical-align: top;\n",
              "    }\n",
              "\n",
              "    .dataframe thead th {\n",
              "        text-align: right;\n",
              "    }\n",
              "</style>\n",
              "<table border=\"1\" class=\"dataframe\">\n",
              "  <thead>\n",
              "    <tr style=\"text-align: right;\">\n",
              "      <th></th>\n",
              "      <th>ID</th>\n",
              "      <th>Case Number</th>\n",
              "      <th>Date</th>\n",
              "      <th>Block</th>\n",
              "      <th>IUCR</th>\n",
              "      <th>Primary Type</th>\n",
              "      <th>Description</th>\n",
              "      <th>Location Description</th>\n",
              "      <th>Arrest</th>\n",
              "      <th>Domestic</th>\n",
              "      <th>Beat</th>\n",
              "      <th>District</th>\n",
              "      <th>Ward</th>\n",
              "      <th>Community Area</th>\n",
              "      <th>FBI Code</th>\n",
              "      <th>X Coordinate</th>\n",
              "      <th>Y Coordinate</th>\n",
              "      <th>Year</th>\n",
              "      <th>Updated On</th>\n",
              "      <th>Latitude</th>\n",
              "      <th>Longitude</th>\n",
              "      <th>Location</th>\n",
              "      <th>voilent crime</th>\n",
              "      <th>other crime</th>\n",
              "      <th>sum_voilentcrime</th>\n",
              "      <th>sum_voilentcrime7</th>\n",
              "      <th>sum_voilentcrime30</th>\n",
              "    </tr>\n",
              "  </thead>\n",
              "  <tbody>\n",
              "    <tr>\n",
              "      <th>0</th>\n",
              "      <td>10224738</td>\n",
              "      <td>HY411648</td>\n",
              "      <td>2015-09-05</td>\n",
              "      <td>043XX S WOOD ST</td>\n",
              "      <td>0486</td>\n",
              "      <td>BATTERY</td>\n",
              "      <td>DOMESTIC BATTERY SIMPLE</td>\n",
              "      <td>RESIDENCE</td>\n",
              "      <td>False</td>\n",
              "      <td>True</td>\n",
              "      <td>924</td>\n",
              "      <td>9.0</td>\n",
              "      <td>12.0</td>\n",
              "      <td>61.0</td>\n",
              "      <td>08B</td>\n",
              "      <td>1165074.0</td>\n",
              "      <td>1875917.0</td>\n",
              "      <td>2015</td>\n",
              "      <td>02/10/2018 03:50:01 PM</td>\n",
              "      <td>41.815117</td>\n",
              "      <td>-87.670000</td>\n",
              "      <td>(41.815117282, -87.669999562)</td>\n",
              "      <td>0</td>\n",
              "      <td>1</td>\n",
              "      <td>206</td>\n",
              "      <td>1653</td>\n",
              "      <td>6764</td>\n",
              "    </tr>\n",
              "    <tr>\n",
              "      <th>1</th>\n",
              "      <td>10224739</td>\n",
              "      <td>HY411615</td>\n",
              "      <td>2015-09-04</td>\n",
              "      <td>008XX N CENTRAL AVE</td>\n",
              "      <td>0870</td>\n",
              "      <td>THEFT</td>\n",
              "      <td>POCKET-PICKING</td>\n",
              "      <td>CTA BUS</td>\n",
              "      <td>False</td>\n",
              "      <td>False</td>\n",
              "      <td>1511</td>\n",
              "      <td>15.0</td>\n",
              "      <td>29.0</td>\n",
              "      <td>25.0</td>\n",
              "      <td>06</td>\n",
              "      <td>1138875.0</td>\n",
              "      <td>1904869.0</td>\n",
              "      <td>2015</td>\n",
              "      <td>02/10/2018 03:50:01 PM</td>\n",
              "      <td>41.895080</td>\n",
              "      <td>-87.765400</td>\n",
              "      <td>(41.895080471, -87.765400451)</td>\n",
              "      <td>0</td>\n",
              "      <td>1</td>\n",
              "      <td>221</td>\n",
              "      <td>1646</td>\n",
              "      <td>6769</td>\n",
              "    </tr>\n",
              "    <tr>\n",
              "      <th>2</th>\n",
              "      <td>11646166</td>\n",
              "      <td>JC213529</td>\n",
              "      <td>2018-09-01</td>\n",
              "      <td>082XX S INGLESIDE AVE</td>\n",
              "      <td>0810</td>\n",
              "      <td>THEFT</td>\n",
              "      <td>OVER $500</td>\n",
              "      <td>RESIDENCE</td>\n",
              "      <td>False</td>\n",
              "      <td>True</td>\n",
              "      <td>631</td>\n",
              "      <td>6.0</td>\n",
              "      <td>8.0</td>\n",
              "      <td>44.0</td>\n",
              "      <td>06</td>\n",
              "      <td>NaN</td>\n",
              "      <td>NaN</td>\n",
              "      <td>2018</td>\n",
              "      <td>04/06/2019 04:04:43 PM</td>\n",
              "      <td>NaN</td>\n",
              "      <td>NaN</td>\n",
              "      <td>NaN</td>\n",
              "      <td>0</td>\n",
              "      <td>1</td>\n",
              "      <td>248</td>\n",
              "      <td>1464</td>\n",
              "      <td>6055</td>\n",
              "    </tr>\n",
              "    <tr>\n",
              "      <th>3</th>\n",
              "      <td>10224740</td>\n",
              "      <td>HY411595</td>\n",
              "      <td>2015-09-05</td>\n",
              "      <td>035XX W BARRY AVE</td>\n",
              "      <td>2023</td>\n",
              "      <td>NARCOTICS</td>\n",
              "      <td>POSS: HEROIN(BRN/TAN)</td>\n",
              "      <td>SIDEWALK</td>\n",
              "      <td>True</td>\n",
              "      <td>False</td>\n",
              "      <td>1412</td>\n",
              "      <td>14.0</td>\n",
              "      <td>35.0</td>\n",
              "      <td>21.0</td>\n",
              "      <td>18</td>\n",
              "      <td>1152037.0</td>\n",
              "      <td>1920384.0</td>\n",
              "      <td>2015</td>\n",
              "      <td>02/10/2018 03:50:01 PM</td>\n",
              "      <td>41.937406</td>\n",
              "      <td>-87.716650</td>\n",
              "      <td>(41.937405765, -87.716649687)</td>\n",
              "      <td>1</td>\n",
              "      <td>0</td>\n",
              "      <td>206</td>\n",
              "      <td>1653</td>\n",
              "      <td>6764</td>\n",
              "    </tr>\n",
              "    <tr>\n",
              "      <th>4</th>\n",
              "      <td>10224741</td>\n",
              "      <td>HY411610</td>\n",
              "      <td>2015-09-05</td>\n",
              "      <td>0000X N LARAMIE AVE</td>\n",
              "      <td>0560</td>\n",
              "      <td>ASSAULT</td>\n",
              "      <td>SIMPLE</td>\n",
              "      <td>APARTMENT</td>\n",
              "      <td>False</td>\n",
              "      <td>True</td>\n",
              "      <td>1522</td>\n",
              "      <td>15.0</td>\n",
              "      <td>28.0</td>\n",
              "      <td>25.0</td>\n",
              "      <td>08A</td>\n",
              "      <td>1141706.0</td>\n",
              "      <td>1900086.0</td>\n",
              "      <td>2015</td>\n",
              "      <td>02/10/2018 03:50:01 PM</td>\n",
              "      <td>41.881903</td>\n",
              "      <td>-87.755121</td>\n",
              "      <td>(41.881903443, -87.755121152)</td>\n",
              "      <td>1</td>\n",
              "      <td>0</td>\n",
              "      <td>206</td>\n",
              "      <td>1653</td>\n",
              "      <td>6764</td>\n",
              "    </tr>\n",
              "  </tbody>\n",
              "</table>\n",
              "</div>"
            ],
            "text/plain": [
              "         ID Case Number  ... sum_voilentcrime7 sum_voilentcrime30\n",
              "0  10224738    HY411648  ...              1653               6764\n",
              "1  10224739    HY411615  ...              1646               6769\n",
              "2  11646166    JC213529  ...              1464               6055\n",
              "3  10224740    HY411595  ...              1653               6764\n",
              "4  10224741    HY411610  ...              1653               6764\n",
              "\n",
              "[5 rows x 27 columns]"
            ]
          },
          "execution_count": 101,
          "metadata": {
            "tags": []
          },
          "output_type": "execute_result"
        }
      ],
      "source": [
        "data.head()"
      ]
    },
    {
      "cell_type": "code",
      "execution_count": null,
      "metadata": {
        "id": "TY63JTe-c1dr"
      },
      "outputs": [],
      "source": [
        "data['sum_voilentcrime120']=0\n",
        "t1=data['Date'].value_counts()\n",
        "sum1={}\n",
        "j=1\n",
        "\n",
        "for i in s2:\n",
        "    w2=i-pd.Timedelta(days=1)\n",
        "        \n",
        "    if w2 in s3:\n",
        "        sum1[i]=s3[w2]\n",
        "    else:sum1[i]=0\n",
        "l1=0\n",
        "j=2\n",
        "while j<121:\n",
        "    for i in range(len(s2)):\n",
        "        w2=s2[i]-pd.Timedelta(days=j)\n",
        "        if w2 in s3:\n",
        "            l1=s3[w2]\n",
        "        else:\n",
        "            l1=0\n",
        "    \n",
        "        sum1[s2[i]]+=l1\n",
        "        \n",
        "    \n",
        "    j+=1\n",
        "        "
      ]
    },
    {
      "cell_type": "code",
      "execution_count": null,
      "metadata": {
        "id": "Nf1bjJytc1dt"
      },
      "outputs": [],
      "source": [
        "for i in sum1:\n",
        "    \n",
        "    data.loc[data['Date'] == i, 'sum_voilentcrime120'] = sum1[i]"
      ]
    },
    {
      "cell_type": "code",
      "execution_count": null,
      "metadata": {
        "colab": {
          "base_uri": "https://localhost:8080/",
          "height": 401
        },
        "id": "PbG2YA2Fc1dv",
        "outputId": "5cfeb4a5-9657-4337-c21e-1c3985da2204"
      },
      "outputs": [
        {
          "data": {
            "text/html": [
              "<div>\n",
              "<style scoped>\n",
              "    .dataframe tbody tr th:only-of-type {\n",
              "        vertical-align: middle;\n",
              "    }\n",
              "\n",
              "    .dataframe tbody tr th {\n",
              "        vertical-align: top;\n",
              "    }\n",
              "\n",
              "    .dataframe thead th {\n",
              "        text-align: right;\n",
              "    }\n",
              "</style>\n",
              "<table border=\"1\" class=\"dataframe\">\n",
              "  <thead>\n",
              "    <tr style=\"text-align: right;\">\n",
              "      <th></th>\n",
              "      <th>ID</th>\n",
              "      <th>Case Number</th>\n",
              "      <th>Date</th>\n",
              "      <th>Block</th>\n",
              "      <th>IUCR</th>\n",
              "      <th>Primary Type</th>\n",
              "      <th>Description</th>\n",
              "      <th>Location Description</th>\n",
              "      <th>Arrest</th>\n",
              "      <th>Domestic</th>\n",
              "      <th>Beat</th>\n",
              "      <th>District</th>\n",
              "      <th>Ward</th>\n",
              "      <th>Community Area</th>\n",
              "      <th>FBI Code</th>\n",
              "      <th>X Coordinate</th>\n",
              "      <th>Y Coordinate</th>\n",
              "      <th>Year</th>\n",
              "      <th>Updated On</th>\n",
              "      <th>Latitude</th>\n",
              "      <th>Longitude</th>\n",
              "      <th>Location</th>\n",
              "      <th>voilent crime</th>\n",
              "      <th>other crime</th>\n",
              "      <th>sum_voilentcrime</th>\n",
              "      <th>sum_voilentcrime7</th>\n",
              "      <th>sum_voilentcrime30</th>\n",
              "      <th>sum_voilentcrime120</th>\n",
              "    </tr>\n",
              "  </thead>\n",
              "  <tbody>\n",
              "    <tr>\n",
              "      <th>0</th>\n",
              "      <td>10224738</td>\n",
              "      <td>HY411648</td>\n",
              "      <td>2015-09-05</td>\n",
              "      <td>043XX S WOOD ST</td>\n",
              "      <td>0486</td>\n",
              "      <td>BATTERY</td>\n",
              "      <td>DOMESTIC BATTERY SIMPLE</td>\n",
              "      <td>RESIDENCE</td>\n",
              "      <td>False</td>\n",
              "      <td>True</td>\n",
              "      <td>924</td>\n",
              "      <td>9.0</td>\n",
              "      <td>12.0</td>\n",
              "      <td>61.0</td>\n",
              "      <td>08B</td>\n",
              "      <td>1165074.0</td>\n",
              "      <td>1875917.0</td>\n",
              "      <td>2015</td>\n",
              "      <td>02/10/2018 03:50:01 PM</td>\n",
              "      <td>41.815117</td>\n",
              "      <td>-87.670000</td>\n",
              "      <td>(41.815117282, -87.669999562)</td>\n",
              "      <td>0</td>\n",
              "      <td>1</td>\n",
              "      <td>206</td>\n",
              "      <td>1653</td>\n",
              "      <td>6764</td>\n",
              "      <td>26489</td>\n",
              "    </tr>\n",
              "    <tr>\n",
              "      <th>1</th>\n",
              "      <td>10224739</td>\n",
              "      <td>HY411615</td>\n",
              "      <td>2015-09-04</td>\n",
              "      <td>008XX N CENTRAL AVE</td>\n",
              "      <td>0870</td>\n",
              "      <td>THEFT</td>\n",
              "      <td>POCKET-PICKING</td>\n",
              "      <td>CTA BUS</td>\n",
              "      <td>False</td>\n",
              "      <td>False</td>\n",
              "      <td>1511</td>\n",
              "      <td>15.0</td>\n",
              "      <td>29.0</td>\n",
              "      <td>25.0</td>\n",
              "      <td>06</td>\n",
              "      <td>1138875.0</td>\n",
              "      <td>1904869.0</td>\n",
              "      <td>2015</td>\n",
              "      <td>02/10/2018 03:50:01 PM</td>\n",
              "      <td>41.895080</td>\n",
              "      <td>-87.765400</td>\n",
              "      <td>(41.895080471, -87.765400451)</td>\n",
              "      <td>0</td>\n",
              "      <td>1</td>\n",
              "      <td>221</td>\n",
              "      <td>1646</td>\n",
              "      <td>6769</td>\n",
              "      <td>26519</td>\n",
              "    </tr>\n",
              "    <tr>\n",
              "      <th>2</th>\n",
              "      <td>11646166</td>\n",
              "      <td>JC213529</td>\n",
              "      <td>2018-09-01</td>\n",
              "      <td>082XX S INGLESIDE AVE</td>\n",
              "      <td>0810</td>\n",
              "      <td>THEFT</td>\n",
              "      <td>OVER $500</td>\n",
              "      <td>RESIDENCE</td>\n",
              "      <td>False</td>\n",
              "      <td>True</td>\n",
              "      <td>631</td>\n",
              "      <td>6.0</td>\n",
              "      <td>8.0</td>\n",
              "      <td>44.0</td>\n",
              "      <td>06</td>\n",
              "      <td>NaN</td>\n",
              "      <td>NaN</td>\n",
              "      <td>2018</td>\n",
              "      <td>04/06/2019 04:04:43 PM</td>\n",
              "      <td>NaN</td>\n",
              "      <td>NaN</td>\n",
              "      <td>NaN</td>\n",
              "      <td>0</td>\n",
              "      <td>1</td>\n",
              "      <td>248</td>\n",
              "      <td>1464</td>\n",
              "      <td>6055</td>\n",
              "      <td>24440</td>\n",
              "    </tr>\n",
              "    <tr>\n",
              "      <th>3</th>\n",
              "      <td>10224740</td>\n",
              "      <td>HY411595</td>\n",
              "      <td>2015-09-05</td>\n",
              "      <td>035XX W BARRY AVE</td>\n",
              "      <td>2023</td>\n",
              "      <td>NARCOTICS</td>\n",
              "      <td>POSS: HEROIN(BRN/TAN)</td>\n",
              "      <td>SIDEWALK</td>\n",
              "      <td>True</td>\n",
              "      <td>False</td>\n",
              "      <td>1412</td>\n",
              "      <td>14.0</td>\n",
              "      <td>35.0</td>\n",
              "      <td>21.0</td>\n",
              "      <td>18</td>\n",
              "      <td>1152037.0</td>\n",
              "      <td>1920384.0</td>\n",
              "      <td>2015</td>\n",
              "      <td>02/10/2018 03:50:01 PM</td>\n",
              "      <td>41.937406</td>\n",
              "      <td>-87.716650</td>\n",
              "      <td>(41.937405765, -87.716649687)</td>\n",
              "      <td>1</td>\n",
              "      <td>0</td>\n",
              "      <td>206</td>\n",
              "      <td>1653</td>\n",
              "      <td>6764</td>\n",
              "      <td>26489</td>\n",
              "    </tr>\n",
              "    <tr>\n",
              "      <th>4</th>\n",
              "      <td>10224741</td>\n",
              "      <td>HY411610</td>\n",
              "      <td>2015-09-05</td>\n",
              "      <td>0000X N LARAMIE AVE</td>\n",
              "      <td>0560</td>\n",
              "      <td>ASSAULT</td>\n",
              "      <td>SIMPLE</td>\n",
              "      <td>APARTMENT</td>\n",
              "      <td>False</td>\n",
              "      <td>True</td>\n",
              "      <td>1522</td>\n",
              "      <td>15.0</td>\n",
              "      <td>28.0</td>\n",
              "      <td>25.0</td>\n",
              "      <td>08A</td>\n",
              "      <td>1141706.0</td>\n",
              "      <td>1900086.0</td>\n",
              "      <td>2015</td>\n",
              "      <td>02/10/2018 03:50:01 PM</td>\n",
              "      <td>41.881903</td>\n",
              "      <td>-87.755121</td>\n",
              "      <td>(41.881903443, -87.755121152)</td>\n",
              "      <td>1</td>\n",
              "      <td>0</td>\n",
              "      <td>206</td>\n",
              "      <td>1653</td>\n",
              "      <td>6764</td>\n",
              "      <td>26489</td>\n",
              "    </tr>\n",
              "  </tbody>\n",
              "</table>\n",
              "</div>"
            ],
            "text/plain": [
              "         ID Case Number  ... sum_voilentcrime30 sum_voilentcrime120\n",
              "0  10224738    HY411648  ...               6764               26489\n",
              "1  10224739    HY411615  ...               6769               26519\n",
              "2  11646166    JC213529  ...               6055               24440\n",
              "3  10224740    HY411595  ...               6764               26489\n",
              "4  10224741    HY411610  ...               6764               26489\n",
              "\n",
              "[5 rows x 28 columns]"
            ]
          },
          "execution_count": 104,
          "metadata": {
            "tags": []
          },
          "output_type": "execute_result"
        }
      ],
      "source": [
        "data.head()"
      ]
    },
    {
      "cell_type": "code",
      "execution_count": null,
      "metadata": {
        "id": "5bxWLIr-c1dw"
      },
      "outputs": [],
      "source": [
        "data['sum_othercrime']=0\n",
        "s1=data['Date'].value_counts()\n",
        "s2=s1.keys()\n",
        "s3={}\n",
        "for i in s2:\n",
        "    r5=[]\n",
        "    r5.append(i)\n",
        "    r1=data[data['Date']==i]['other crime']==1\n",
        "    count=0\n",
        "    for i in r1:\n",
        "        if i==True:\n",
        "            count+=1\n",
        "    s3[r5[0]]=count\n",
        "    data.loc[data['Date'] == r5[0], 'sum_othercrime'] = count"
      ]
    },
    {
      "cell_type": "code",
      "execution_count": null,
      "metadata": {
        "id": "H77IxlKTc1dy"
      },
      "outputs": [],
      "source": [
        "data['sum_othercrime7']=0\n",
        "t1=data['Date'].value_counts()\n",
        "sum1={}\n",
        "j=1\n",
        "\n",
        "for i in s2:\n",
        "    w2=i-pd.Timedelta(days=1)\n",
        "        \n",
        "    if w2 in s3:\n",
        "        sum1[i]=s3[w2]\n",
        "    else:sum1[i]=0\n",
        "l1=0\n",
        "j=2\n",
        "while j<8:\n",
        "    for i in range(len(s2)):\n",
        "        w2=s2[i]-pd.Timedelta(days=j)\n",
        "        if w2 in s3:\n",
        "            l1=s3[w2]\n",
        "        else:\n",
        "            l1=0\n",
        "    \n",
        "        sum1[s2[i]]+=l1\n",
        "        \n",
        "    \n",
        "    j+=1"
      ]
    },
    {
      "cell_type": "code",
      "execution_count": null,
      "metadata": {
        "id": "m6NL5gSGc1d1"
      },
      "outputs": [],
      "source": [
        "for i in sum1:\n",
        "    \n",
        "    data.loc[data['Date'] == i, 'sum_othercrime7'] = sum1[i]"
      ]
    },
    {
      "cell_type": "code",
      "execution_count": null,
      "metadata": {
        "id": "9TlMVlsCc1d3"
      },
      "outputs": [],
      "source": [
        "data['sum_othercrime30']=0\n",
        "t1=data['Date'].value_counts()\n",
        "sum1={}\n",
        "j=1\n",
        "\n",
        "for i in s2:\n",
        "    w2=i-pd.Timedelta(days=1)\n",
        "        \n",
        "    if w2 in s3:\n",
        "        sum1[i]=s3[w2]\n",
        "    else:sum1[i]=0\n",
        "l1=0\n",
        "j=2\n",
        "while j<31:\n",
        "    for i in range(len(s2)):\n",
        "        w2=s2[i]-pd.Timedelta(days=j)\n",
        "        if w2 in s3:\n",
        "            l1=s3[w2]\n",
        "        else:\n",
        "            l1=0\n",
        "    \n",
        "        sum1[s2[i]]+=l1\n",
        "        \n",
        "    \n",
        "    j+=1"
      ]
    },
    {
      "cell_type": "code",
      "execution_count": null,
      "metadata": {
        "id": "cXxh22Ylc1d4"
      },
      "outputs": [],
      "source": [
        "for i in sum1:\n",
        "    \n",
        "    data.loc[data['Date'] == i, 'sum_othercrime30'] = sum1[i]"
      ]
    },
    {
      "cell_type": "code",
      "execution_count": null,
      "metadata": {
        "id": "-bZRXQt1c1d6"
      },
      "outputs": [],
      "source": [
        "data['sum_othercrime120']=0\n",
        "t1=data['Date'].value_counts()\n",
        "sum1={}\n",
        "j=1\n",
        "\n",
        "for i in s2:\n",
        "    w2=i-pd.Timedelta(days=1)\n",
        "        \n",
        "    if w2 in s3:\n",
        "        sum1[i]=s3[w2]\n",
        "    else:sum1[i]=0\n",
        "l1=0\n",
        "j=2\n",
        "while j<121:\n",
        "    for i in range(len(s2)):\n",
        "        w2=s2[i]-pd.Timedelta(days=j)\n",
        "        if w2 in s3:\n",
        "            l1=s3[w2]\n",
        "        else:\n",
        "            l1=0\n",
        "    \n",
        "        sum1[s2[i]]+=l1\n",
        "        \n",
        "    \n",
        "    j+=1"
      ]
    },
    {
      "cell_type": "code",
      "execution_count": null,
      "metadata": {
        "id": "bTmzcoqcc1d8"
      },
      "outputs": [],
      "source": [
        "for i in sum1:\n",
        "    \n",
        "    data.loc[data['Date'] == i, 'sum_othercrime120'] = sum1[i]"
      ]
    },
    {
      "cell_type": "markdown",
      "metadata": {
        "id": "7xzuZkLrpj2q"
      },
      "source": [
        "#-------------------------------------------------------------------------------\n",
        "#-------------------------------------------------------------------------------\n",
        "#-------------------------------------------------------------------------------"
      ]
    },
    {
      "cell_type": "code",
      "execution_count": null,
      "metadata": {
        "id": "QfM6Ob2Hc1d-"
      },
      "outputs": [],
      "source": [
        "data.head()"
      ]
    },
    {
      "cell_type": "code",
      "execution_count": null,
      "metadata": {
        "id": "zWne7jov-BMu"
      },
      "outputs": [],
      "source": [
        "#data=data.dropna() # error showed up if not run"
      ]
    },
    {
      "cell_type": "code",
      "execution_count": null,
      "metadata": {
        "id": "tmc9FTC8c1d_"
      },
      "outputs": [],
      "source": [
        "\n",
        "data[\"Latitude\"].fillna(data[\"Latitude\"].mean(), inplace = True)\n",
        "data[\"Longitude\"].fillna(data[\"Longitude\"].mean(), inplace = True)"
      ]
    },
    {
      "cell_type": "code",
      "execution_count": null,
      "metadata": {
        "id": "ERWYiizPc1d_"
      },
      "outputs": [],
      "source": [
        "split_date =data['Date'][77]\n",
        "df_training = data.loc[data['Date'] <= split_date]\n",
        "df_test = data.loc[data['Date'] > split_date]"
      ]
    },
    {
      "cell_type": "code",
      "execution_count": null,
      "metadata": {
        "id": "A51Q-XsEur1P"
      },
      "outputs": [],
      "source": [
        "data['Date'][5898401]"
      ]
    },
    {
      "cell_type": "code",
      "execution_count": null,
      "metadata": {
        "id": "GhhpHTMxqkQO"
      },
      "outputs": [],
      "source": [
        "a=len(df_training)\n",
        "b=len(df_test)\n",
        "print((a/(a+b))*100)\n",
        "print((b/(a+b))*100)\n",
        "a,b,a+b"
      ]
    },
    {
      "cell_type": "code",
      "execution_count": null,
      "metadata": {
        "id": "79XkeFuJc1eA"
      },
      "outputs": [],
      "source": [
        "x_columns=['Latitude','Longitude','sum_voilentcrime7','sum_voilentcrime30','sum_voilentcrime120','sum_othercrime7','sum_othercrime30','sum_othercrime120']\n",
        "\n",
        "y_columns=['voilent crime']"
      ]
    },
    {
      "cell_type": "code",
      "execution_count": null,
      "metadata": {
        "id": "RJyTVmfZc1eB"
      },
      "outputs": [],
      "source": [
        "x_train=df_training[x_columns]\n",
        "x_test=df_test[x_columns]\n",
        "y_train=df_training[y_columns]\n",
        "y_test=df_test[y_columns]"
      ]
    },
    {
      "cell_type": "code",
      "execution_count": null,
      "metadata": {
        "id": "lC8eCLacc1eB"
      },
      "outputs": [],
      "source": [
        "from sklearn.linear_model import LogisticRegression  \n",
        "classifier= LogisticRegression(random_state=0)  \n",
        "classifier.fit(x_train, y_train) "
      ]
    },
    {
      "cell_type": "code",
      "execution_count": null,
      "metadata": {
        "id": "phdAn41Rc1eC"
      },
      "outputs": [],
      "source": [
        "y_pred= classifier.predict(x_test)  "
      ]
    },
    {
      "cell_type": "code",
      "execution_count": null,
      "metadata": {
        "id": "xbft5CSTc1eD"
      },
      "outputs": [],
      "source": [
        "from sklearn import metrics\n",
        "print(metrics.accuracy_score(y_test, y_pred))"
      ]
    },
    {
      "cell_type": "code",
      "execution_count": null,
      "metadata": {
        "id": "aKT81mSTc1eE"
      },
      "outputs": [],
      "source": [
        "\n",
        "print(metrics.confusion_matrix(y_test, y_pred))"
      ]
    },
    {
      "cell_type": "code",
      "execution_count": null,
      "metadata": {
        "id": "1QqEfxeCc1eF"
      },
      "outputs": [],
      "source": []
    },
    {
      "cell_type": "code",
      "execution_count": null,
      "metadata": {
        "id": "G07xsEuU-NSh"
      },
      "outputs": [],
      "source": []
    }
  ],
  "metadata": {
    "colab": {
      "collapsed_sections": [],
      "name": "Prediction.ipynb",
      "provenance": []
    },
    "kernelspec": {
      "display_name": "Python 3",
      "language": "python",
      "name": "python3"
    },
    "language_info": {
      "codemirror_mode": {
        "name": "ipython",
        "version": 3
      },
      "file_extension": ".py",
      "mimetype": "text/x-python",
      "name": "python",
      "nbconvert_exporter": "python",
      "pygments_lexer": "ipython3",
      "version": "3.8.3"
    }
  },
  "nbformat": 4,
  "nbformat_minor": 0
}
